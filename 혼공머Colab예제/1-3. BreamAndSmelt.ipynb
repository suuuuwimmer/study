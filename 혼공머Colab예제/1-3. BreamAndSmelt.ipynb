{
  "nbformat": 4,
  "nbformat_minor": 0,
  "metadata": {
    "colab": {
      "provenance": [],
      "authorship_tag": "ABX9TyMWEmMz6BB0VUdM6SoIvVRg",
      "include_colab_link": true
    },
    "kernelspec": {
      "name": "python3",
      "display_name": "Python 3"
    },
    "language_info": {
      "name": "python"
    }
  },
  "cells": [
    {
      "cell_type": "markdown",
      "metadata": {
        "id": "view-in-github",
        "colab_type": "text"
      },
      "source": [
        "<a href=\"https://colab.research.google.com/github/suuuuwimmer/study/blob/master/%ED%98%BC%EA%B3%B5%EB%A8%B8Colab%EC%98%88%EC%A0%9C/BreamAndSmelt.ipynb\" target=\"_parent\"><img src=\"https://colab.research.google.com/assets/colab-badge.svg\" alt=\"Open In Colab\"/></a>"
      ]
    },
    {
      "cell_type": "markdown",
      "source": [
        "머신러닝을 하는 사람들에게는 없어서는 안되는 사이트 : [Kaggle](https://www.kaggle.com/)\\\n",
        "Kaggle에서 경연 대회에 참여할 수도 있고, 많은 데이터셋과 참고자료를 열람할 수 있다."
      ],
      "metadata": {
        "id": "pIlIBsMxxFB7"
      }
    },
    {
      "cell_type": "code",
      "source": [
        "import matplotlib.pyplot as plt #matplotlib의 pylot 함수를 plt로 줄여서 사용하겠다는 것"
      ],
      "metadata": {
        "id": "5E26Q7oqQbAk"
      },
      "execution_count": null,
      "outputs": []
    },
    {
      "cell_type": "markdown",
      "source": [
        "pyplot함수는 데이터를 선 그래프 형태(**표**)로 시각화할때 사용됨"
      ],
      "metadata": {
        "id": "CB_M_2YbRifk"
      }
    },
    {
      "cell_type": "code",
      "source": [
        "bream_length = [25.4, 26.3, 26.5, 29.0, 29.0, 29.7, 29.7, 30.0, 30.0, 30.7, 31.0, 31.0,\n",
        "                31.5, 32.0, 32.0, 32.0, 33.0, 33.0, 33.5, 33.5, 34.0, 34.0, 34.5, 35.0,\n",
        "                35.0, 35.0, 35.0, 36.0, 36.0, 37.0, 38.5, 38.5, 39.5, 41.0, 41.0]\n",
        "bream_weight = [242.0, 290.0, 340.0, 363.0, 430.0, 450.0, 500.0, 390.0, 450.0, 500.0, 475.0, 500.0,\n",
        "                500.0, 340.0, 600.0, 600.0, 700.0, 700.0, 610.0, 650.0, 575.0, 685.0, 620.0, 680.0,\n",
        "                700.0, 725.0, 720.0, 714.0, 850.0, 1000.0, 920.0, 955.0, 925.0, 975.0, 950.0]"
      ],
      "metadata": {
        "id": "yn6KcFAuQzA_"
      },
      "execution_count": null,
      "outputs": []
    },
    {
      "cell_type": "code",
      "source": [
        "smelt_length = [9.8, 10.5, 10.6, 11.0, 11.2, 11.3, 11.8, 11.8, 12.0, 12.2, 12.4, 13.0, 14.3, 15.0]\n",
        "smelt_weight = [6.7, 7.5, 7.0, 9.7, 9.8, 8.7, 10.0, 9.9, 9.8, 12.2, 13.4, 12.2, 19.7, 19.9]"
      ],
      "metadata": {
        "id": "i-5nxTI0SsNF"
      },
      "execution_count": null,
      "outputs": []
    },
    {
      "cell_type": "markdown",
      "source": [
        "[도미 데이터셋 출처](https://gist.github.com/rickiepark/b37d04a95a42ef6757e4a99214d61697)\\\n",
        "[빙어 데이터셋 출처](https://gist.github.com/rickiepark/1e89fe2a9d4ad92bc9f073163c9a37a7)\n",
        "\n"
      ],
      "metadata": {
        "id": "hpMMyZ0URr_O"
      }
    },
    {
      "cell_type": "markdown",
      "source": [
        "각 생선의 특징을 길이와 뭄게로 표현한 것인데, 이 것을 **특성(feature)**이라고 한다.\\\n",
        "특성은 데이터의 특징을 말한다."
      ],
      "metadata": {
        "id": "lEh2H-rBxkO3"
      }
    },
    {
      "cell_type": "code",
      "source": [
        "plt.scatter(bream_length, bream_weight)\n",
        "plt.scatter(smelt_length, smelt_weight)\n",
        "plt.xlabel('length') #x축은 길이\n",
        "plt.ylabel('weight') #y축은 무게\n",
        "plt.show()"
      ],
      "metadata": {
        "colab": {
          "base_uri": "https://localhost:8080/",
          "height": 449
        },
        "id": "3Bplku_iQsgm",
        "outputId": "0bfe6af1-de73-48db-e6bc-808a3dbefd56"
      },
      "execution_count": null,
      "outputs": [
        {
          "output_type": "display_data",
          "data": {
            "text/plain": [
              "<Figure size 640x480 with 1 Axes>"
            ],
            "image/png": "[encoded data removed]"
          },
          "metadata": {}
        }
      ]
    },
    {
      "cell_type": "markdown",
      "source": [
        "맷플롯립에서 2개의 산점도를 그리는 법은 scatter() 메소드를 연달아 이용하는 것이다.\\\n",
        "도미 35마리를 2차원 그래프에 점으로 나타냈다.\\\n",
        "도미의 길이가 길수록 무게가 많이 나가는 것을 위 그래프로 확인할 수 있다.\\\n",
        "이렇게 산점도 그래프가 일직선에 가까운 형태를 **선형적**이라고 한다.\\\n",
        "**파란색은 방어, 주황색은 빙어에 해당**"
      ],
      "metadata": {
        "id": "8QemTfVyR3nt"
      }
    },
    {
      "cell_type": "markdown",
      "source": [
        "\n",
        "\n",
        "---\n",
        "\n"
      ],
      "metadata": {
        "id": "M9JRFLK16Wq_"
      }
    },
    {
      "cell_type": "markdown",
      "source": [
        "<h1>k-최근접 이웃 알고리즘</h1>"
      ],
      "metadata": {
        "id": "KJvOma7_6Rhu"
      }
    },
    {
      "cell_type": "code",
      "source": [
        "length=bream_length+smelt_length\n",
        "weight=bream_weight+smelt_weight"
      ],
      "metadata": {
        "id": "F5kMyoBiTMaK"
      },
      "execution_count": null,
      "outputs": []
    },
    {
      "cell_type": "code",
      "source": [
        "fish_data = [[l,w]for l, w in zip(length,weight)]"
      ],
      "metadata": {
        "id": "aurUzK0-U_2H"
      },
      "execution_count": null,
      "outputs": []
    },
    {
      "cell_type": "markdown",
      "source": [
        "**zip()함수와 리스트 내포 구문**을 이용해 2차원 리스트를 구현하고 있다.\\\n",
        "length와 weight 리스트에서 원소를 하나씩 꺼내 l, w에 할당해 [l,w]인 2차원 리스트가 만들어 지는 것"
      ],
      "metadata": {
        "id": "-qwuk0nFVGJP"
      }
    },
    {
      "cell_type": "code",
      "source": [
        "print(fish_data)"
      ],
      "metadata": {
        "colab": {
          "base_uri": "https://localhost:8080/"
        },
        "id": "obIhibddVXnK",
        "outputId": "9ba74f0a-8ea5-4d8c-864b-cd3ac53d0e81"
      },
      "execution_count": null,
      "outputs": [
        {
          "output_type": "stream",
          "name": "stdout",
          "text": [
            "[[25.4, 242.0], [26.3, 290.0], [26.5, 340.0], [29.0, 363.0], [29.0, 430.0], [29.7, 450.0], [29.7, 500.0], [30.0, 390.0], [30.0, 450.0], [30.7, 500.0], [31.0, 475.0], [31.0, 500.0], [31.5, 500.0], [32.0, 340.0], [32.0, 600.0], [32.0, 600.0], [33.0, 700.0], [33.0, 700.0], [33.5, 610.0], [33.5, 650.0], [34.0, 575.0], [34.0, 685.0], [34.5, 620.0], [35.0, 680.0], [35.0, 700.0], [35.0, 725.0], [35.0, 720.0], [36.0, 714.0], [36.0, 850.0], [37.0, 1000.0], [38.5, 920.0], [38.5, 955.0], [39.5, 925.0], [41.0, 975.0], [41.0, 950.0], [9.8, 6.7], [10.5, 7.5], [10.6, 7.0], [11.0, 9.7], [11.2, 9.8], [11.3, 8.7], [11.8, 10.0], [11.8, 9.9], [12.0, 9.8], [12.2, 12.2], [12.4, 13.4], [13.0, 12.2], [14.3, 19.7], [15.0, 19.9]]\n"
          ]
        }
      ]
    },
    {
      "cell_type": "markdown",
      "source": [
        "도미와 빙어 데이터가 혼재된 2차원 리스트 fish_data가 생성됐다.\\\n",
        "여기서 도미와 빙어를 구분하는 머신러닝을 만들어보자."
      ],
      "metadata": {
        "id": "AN0tFhp1ViB5"
      }
    },
    {
      "cell_type": "code",
      "source": [
        "fish_target =[1]*35+[0]*14\n",
        "print(fish_target)"
      ],
      "metadata": {
        "colab": {
          "base_uri": "https://localhost:8080/"
        },
        "id": "E__nyjW9Vyjd",
        "outputId": "a237b1d4-6799-4294-9d38-da9ea0001221"
      },
      "execution_count": null,
      "outputs": [
        {
          "output_type": "stream",
          "name": "stdout",
          "text": [
            "[1, 1, 1, 1, 1, 1, 1, 1, 1, 1, 1, 1, 1, 1, 1, 1, 1, 1, 1, 1, 1, 1, 1, 1, 1, 1, 1, 1, 1, 1, 1, 1, 1, 1, 1, 0, 0, 0, 0, 0, 0, 0, 0, 0, 0, 0, 0, 0, 0]\n"
          ]
        }
      ]
    },
    {
      "cell_type": "markdown",
      "source": [
        "도미는 35마리, 빙어는 14마리이므로 도미일땐 1, 빙어일땐 0으로 이분법적으로 구분하는 것"
      ],
      "metadata": {
        "id": "DDud7QgdV6bl"
      }
    },
    {
      "cell_type": "code",
      "source": [
        "from sklearn.neighbors import KNeighborsClassifier\n",
        "kn = KNeighborsClassifier()"
      ],
      "metadata": {
        "id": "svOsdN46WDSC"
      },
      "execution_count": null,
      "outputs": []
    },
    {
      "cell_type": "markdown",
      "source": [
        "사이킷런 패키지로 k-최근접 이웃 알고리즘을 구현\\\n",
        "k-최근접 이웃 알고리즘은 가장 가까운 데이터를 보고 다수결의 원칙을 따르는 방법이다."
      ],
      "metadata": {
        "id": "YFCYmZEHWI9R"
      }
    },
    {
      "cell_type": "code",
      "source": [
        "kn.fit(fish_data, fish_target) #fish_data와 fish_target 데이터값을 기반으로 훈련\n",
        "kn.score(fish_data,fish_target) #훈련 정확도 0(최저)~1(최고)"
      ],
      "metadata": {
        "colab": {
          "base_uri": "https://localhost:8080/"
        },
        "id": "crmDDBAdWcN5",
        "outputId": "c3719a72-85ed-4a45-85e4-5aadbab0ed23"
      },
      "execution_count": null,
      "outputs": [
        {
          "output_type": "execute_result",
          "data": {
            "text/plain": [
              "1.0"
            ]
          },
          "metadata": {},
          "execution_count": 85
        }
      ]
    },
    {
      "cell_type": "markdown",
      "source": [
        "k-최근접 이웃 알고리즘을 이용해 fish_data와 fish_target을 훈련시킨 결과 해당 모델이 정확하게 도미와 빙어를 분류해냈음을 알 수 있다."
      ],
      "metadata": {
        "id": "RvoS-OaJWznb"
      }
    },
    {
      "cell_type": "code",
      "source": [
        "kn.predict([[30,600]])"
      ],
      "metadata": {
        "colab": {
          "base_uri": "https://localhost:8080/"
        },
        "id": "hrTbmFPaXKxs",
        "outputId": "4a4b34f7-d333-4db8-af1e-0c700264e174"
      },
      "execution_count": null,
      "outputs": [
        {
          "output_type": "execute_result",
          "data": {
            "text/plain": [
              "array([1])"
            ]
          },
          "metadata": {},
          "execution_count": 86
        }
      ]
    },
    {
      "cell_type": "markdown",
      "source": [
        "도미일 것으로 예상한 것"
      ],
      "metadata": {
        "id": "ti78nwEtXQq0"
      }
    },
    {
      "cell_type": "code",
      "source": [
        "print(kn._fit_X)"
      ],
      "metadata": {
        "colab": {
          "base_uri": "https://localhost:8080/"
        },
        "id": "rbTDDTB-XV_q",
        "outputId": "4958953b-7cda-4237-dae3-1c9b65015b35"
      },
      "execution_count": null,
      "outputs": [
        {
          "output_type": "stream",
          "name": "stdout",
          "text": [
            "[[  25.4  242. ]\n",
            " [  26.3  290. ]\n",
            " [  26.5  340. ]\n",
            " [  29.   363. ]\n",
            " [  29.   430. ]\n",
            " [  29.7  450. ]\n",
            " [  29.7  500. ]\n",
            " [  30.   390. ]\n",
            " [  30.   450. ]\n",
            " [  30.7  500. ]\n",
            " [  31.   475. ]\n",
            " [  31.   500. ]\n",
            " [  31.5  500. ]\n",
            " [  32.   340. ]\n",
            " [  32.   600. ]\n",
            " [  32.   600. ]\n",
            " [  33.   700. ]\n",
            " [  33.   700. ]\n",
            " [  33.5  610. ]\n",
            " [  33.5  650. ]\n",
            " [  34.   575. ]\n",
            " [  34.   685. ]\n",
            " [  34.5  620. ]\n",
            " [  35.   680. ]\n",
            " [  35.   700. ]\n",
            " [  35.   725. ]\n",
            " [  35.   720. ]\n",
            " [  36.   714. ]\n",
            " [  36.   850. ]\n",
            " [  37.  1000. ]\n",
            " [  38.5  920. ]\n",
            " [  38.5  955. ]\n",
            " [  39.5  925. ]\n",
            " [  41.   975. ]\n",
            " [  41.   950. ]\n",
            " [   9.8    6.7]\n",
            " [  10.5    7.5]\n",
            " [  10.6    7. ]\n",
            " [  11.     9.7]\n",
            " [  11.2    9.8]\n",
            " [  11.3    8.7]\n",
            " [  11.8   10. ]\n",
            " [  11.8    9.9]\n",
            " [  12.     9.8]\n",
            " [  12.2   12.2]\n",
            " [  12.4   13.4]\n",
            " [  13.    12.2]\n",
            " [  14.3   19.7]\n",
            " [  15.    19.9]]\n"
          ]
        }
      ]
    },
    {
      "cell_type": "code",
      "source": [
        "print(kn._y)"
      ],
      "metadata": {
        "colab": {
          "base_uri": "https://localhost:8080/"
        },
        "id": "I_aLD3zPXaaU",
        "outputId": "1da15956-2927-4488-9eb8-8da2189379af"
      },
      "execution_count": null,
      "outputs": [
        {
          "output_type": "stream",
          "name": "stdout",
          "text": [
            "[1 1 1 1 1 1 1 1 1 1 1 1 1 1 1 1 1 1 1 1 1 1 1 1 1 1 1 1 1 1 1 1 1 1 1 0 0\n",
            " 0 0 0 0 0 0 0 0 0 0 0 0]\n"
          ]
        }
      ]
    },
    {
      "cell_type": "code",
      "source": [
        "kn49 = KNeighborsClassifier(n_neighbors=49)\n",
        "kn49.fit(fish_data, fish_target)\n",
        "kn49.score(fish_data,fish_target)"
      ],
      "metadata": {
        "colab": {
          "base_uri": "https://localhost:8080/"
        },
        "id": "BqHxtFNJXsNy",
        "outputId": "0999d5f6-bcc8-4a4f-efe4-dbb8d54e9d7e"
      },
      "execution_count": null,
      "outputs": [
        {
          "output_type": "execute_result",
          "data": {
            "text/plain": [
              "0.7142857142857143"
            ]
          },
          "metadata": {},
          "execution_count": 89
        }
      ]
    },
    {
      "cell_type": "markdown",
      "source": [
        "매개변수를 49로 잡았을때 정확도가 떨어진다 >> 수정 필요"
      ],
      "metadata": {
        "id": "rYAeoTQ-X9IA"
      }
    },
    {
      "cell_type": "code",
      "source": [
        "print(35/49)"
      ],
      "metadata": {
        "colab": {
          "base_uri": "https://localhost:8080/"
        },
        "id": "FuWZpxctYocL",
        "outputId": "528e7b64-7a9b-48b1-d8c0-c36f770e630b"
      },
      "execution_count": null,
      "outputs": [
        {
          "output_type": "stream",
          "name": "stdout",
          "text": [
            "0.7142857142857143\n"
          ]
        }
      ]
    }
  ]
}